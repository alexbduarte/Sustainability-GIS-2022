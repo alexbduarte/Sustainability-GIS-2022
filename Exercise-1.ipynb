{
 "cells": [
  {
   "cell_type": "markdown",
   "metadata": {},
   "source": [
    "# Exercise 1\n",
    "\n",
    "Exercise 1 includes a **written assignment** (10 points) and a **programming assignment with 4 problems** (10 points) that you need to solve with programming. For each problem you need to modify the notebook by adding your own programming solutions or written text. Remember to save and commit your changes locally, and push your changes to GitHub after each major change! Regular commits will help you to keep track of your changes (and revert them if needed). Pushing your work to GitHub will ensure that you don't lose any work in case your computer crashes (can happen!).\n",
    "\n",
    "### Due date\n",
    "\n",
    "This exercise should be returned to your personal Github repository within two weeks after the first practical session (by Thursday 27.1 at 23:59). Please notice that finishing the programming exercises can take significant amount of time (especially if you don't have yet much programming experience). Hence, it is recommended that you start immediately working on them."
   ]
  },
  {
   "cell_type": "markdown",
   "metadata": {},
   "source": [
    "# Exercise 1 - Written assignment (10 points)\n",
    "\n",
    "In the *Introduction to Sustainability* and *Introduction to Spatial Data Science* lessons this week, we have learned a few basic concepts about sustainable development goals and modern geospatial analytics. \n",
    "In this written assignment, the idea is to reflect a bit of the things that we have learned from your own perspective.\n",
    "\n",
    "## Reflections on sustainability\n",
    "\n",
    "Write approx. 0.5-2 pages (A4) of text in English where you reflect your own life and thoughts about sustainability. To help you get going, here are some questions that you might touch upon in your text:\n",
    "\n",
    " - What does sustainability mean to you?\n",
    " - Did your idea / understanding about sustainability evolve somehow after the introductory presentation?\n",
    " - Are there (or have there been) some behaviors/actions in your life that you have changed due to sustainability reasons?\n",
    " - How do you think that as a *spatial data scientist/engineer* you could help to make a difference in terms of sustainability? \n",
    " E.g. in your current / previous / future job. It does not need to be anything grandiose. Small things matter as well. \n",
    "\n",
    "Notice that the above questions are just some examples about the topics that you could write about. \n",
    "You do not need to answer them all, and you can also invent your own topics/questions that you want to\n",
    "write about. The important part is that you start thinking about sustainability and reflect it from your own \n",
    "perspective.\n",
    "\n",
    "----------------\n",
    "\n",
    "### My reflections\n",
    "\n",
    "**Add your text here.**\n",
    "\n",
    "*Hint: To \"activate\" this cell in Editing mode, double click this cell. If you want to get this cell back in the \"Reading-mode\", press Shift+Enter.*\n",
    "\n",
    "## Hints\n",
    "\n",
    "- If you need help in Markdown formatting (e.g. how to add headings, bold, italics, links etc.), please take a look at this excellent [guide / cheatsheet](https://www.markdownguide.org/cheat-sheet/) "
   ]
  },
  {
   "cell_type": "markdown",
   "metadata": {},
   "source": [
    "# Exercise 1 - Programming assignment (10 points)\n",
    "\n",
    "Exercise 1 includes two problems that you need to solve with programming (+ one extra task which is optional). For each problem you need to modify the notebook by adding your own solutions. Remember to save and commit your changes locally, and push your changes to GitHub after each major change! Regular commits will help you to keep track of your changes (and revert them if needed). Pushing your work to GitHub will ensure that you don't lose any work in case your computer crashes (can happen!).\n",
    "\n",
    "The purpose of this programming assignment is to familiarize yourself with some basic functionalities of geopandas. \n",
    "An overview of the tasks:\n",
    "\n",
    " - extract OpenStreetMap data from Helsinki Region\n",
    " - make a simple visualization  \n",
    " - calculate building density for a given district\n",
    " \n",
    "### Start your exercise in CSC Notebooks\n",
    "\n",
    "Before you can start programming, you need to launch the CSC Notebook instance and clone your Exercise repository there.\n",
    "If you need help with this, [read the documentation on the course site](https://sustainability-gis.readthedocs.io/en/latest/lessons/L1/git-basics.html).\n",
    " \n",
    "### Hints \n",
    "\n",
    "If there are general questions arising from this exercise, we will add hints to the course website under [Exercise 1 description](https://sustainability-gis.readthedocs.io/en/latest/lessons/L1/exercise-1.html). \n"
   ]
  },
  {
   "cell_type": "markdown",
   "metadata": {},
   "source": [
    "## Problem 1 (5 points)\n",
    "\n",
    "In the first task you should write code in which you:\n",
    " \n",
    " - download and initialize OpenStreetMap data reader for Helsinki Region using `pyrosm`\n",
    " - Read following datasets from the OSM:\n",
    " \n",
    "   1. Buildings\n",
    "   2. Roads\n",
    "   3. Administrative boundary for the city district where you live, e.g. \"Otaniemi\" (see [pyrosm docs](https://pyrosm.readthedocs.io/en/latest/basics.html#read-boundaries))\n",
    " \n",
    " - Select the buildings and roads that intersect with the given administrative boundary (district) \n",
    " - Reproject the selected buildings and roads to EPSG:3067 (ETRS-TM35FIN)\n",
    " - Visualize the reprojected buildings, roads and the administrative boundary and produce a map that pleases your eye (style is free). \n",
    "   - Add a title to your map\n",
    "   - If you want to use black background you can `import matplotlib.pyplot as plt` and specify `plt.style.use(\"dark_background\")`\n",
    "   - For example, the output could look like following:\n",
    " \n",
    "![](img/hoods-example.png)\n",
    "   \n",
    "\n",
    "Please write your solution to the cell below (remove the `raise NotImplementedError()` code). You can create new cells as well if needed."
   ]
  },
  {
   "cell_type": "code",
   "execution_count": null,
   "metadata": {
    "deletable": false,
    "nbgrader": {
     "cell_type": "code",
     "checksum": "142174e96973067e7af31f843fcaaca3",
     "grade": true,
     "grade_id": "cell-20a61454de8d83b8",
     "locked": false,
     "points": 7,
     "schema_version": 3,
     "solution": true,
     "task": false
    }
   },
   "outputs": [],
   "source": [
    "# YOUR CODE HERE\n",
    "raise NotImplementedError()"
   ]
  },
  {
   "cell_type": "markdown",
   "metadata": {},
   "source": [
    "## Problem 2 (2 points)\n",
    "\n",
    "Based on the buildings and district GeoDataFrames, calculate the building density for the given district. To do this, you should:\n",
    "\n",
    " - Calculate the total area of all buildings within your district\n",
    "   - Note: Use the buildings and district from Problem 1\n",
    " - Divide this total building area by the area of the district\n",
    "   - the result shows the building density as percentage (i.e. proportion of the land that is allocated for buildings)\n",
    " - Print the result for your district to the screen in percentages with 1 decimal point. I.e. it should say something like:\n",
    "   - \"Building density in Ullanlinna is 14.7 %. \n",
    "\n",
    "Please write your solution to the cell below (remove the `raise NotImplementedError()` code). You can create new cells as well if needed."
   ]
  },
  {
   "cell_type": "code",
   "execution_count": null,
   "metadata": {
    "deletable": false,
    "nbgrader": {
     "cell_type": "code",
     "checksum": "4ba3c16e98b3b016fef469658fa90a18",
     "grade": true,
     "grade_id": "cell-56ac0e2b932bdb9d",
     "locked": false,
     "points": 3,
     "schema_version": 3,
     "solution": true,
     "task": false
    }
   },
   "outputs": [],
   "source": [
    "# YOUR CODE HERE\n",
    "raise NotImplementedError()"
   ]
  },
  {
   "cell_type": "markdown",
   "metadata": {},
   "source": [
    "## Problem 3 (2 points)\n",
    "\n",
    "In this problem, your task is to calculate building densities for all districts in Helsinki Region. The end result should like something like following:\n",
    "\n",
    "![](img/building-densities-HMA.png)\n",
    "\n",
    "It is possible to extract city districts directly from OpenStreetMap (OSM). In OSM, different administrative levels are tagged with `admin_level` tag (see [docs](https://wiki.openstreetmap.org/wiki/Tag:boundary%3Dadministrative#admin_level)). These admin levels are used in order to render different borders consistently among countries. E.g `admin_level=10` is typically used to render districts, neighborhoods and so on, whereas `admin_level=4` is typically used to draw provinces, regions, federal states etc. These values are country specific, hence, if you work in other countries please take a look at the country specific table from the [OSM docs](https://wiki.openstreetmap.org/wiki/Tag:boundary%3Dadministrative#admin_level). In Finland, `admin_level=10` is used for neighborhoods, hence you can take advantage of that information and extract all the neighborhoods for Helsinki Region.\n",
    "\n",
    "**Description**:\n",
    "\n",
    " 1. Read the boundaries for Helsinki Region using `pyrosm` and add `\"admin_level\"` as an extra attribute for `extra_attributes` -parameter (see docs of pyrosm). This will ensure that the `admin_level` tag is kept as a column in the resulting GeoDataFrame.\n",
    " 2. Read the buildings for Helsinki Region with `pyrosm`\n",
    " 3. Select all city districts from the administrative boundaries of Helsinki Region (step 1), i.e. all rows in which the `admin_level` is `\"10\"` (notice that the number is stored as a string). \n",
    " 4. Reproject all city districts and buildings to EPSG 3067\n",
    " 5. Create a new column called `density` for city districts GeoDataFrame and assign a value 0 to it\n",
    " 6. Iterate over city districts, calculate the building density (in a similar manner as in Problem 2) and update the result into the `density` column in the city districts GeoDataFrame. The density should be represented as a percentage (0-100) rounding it to 1 decimal.\n",
    " 7. Visualize the results and add a legend and title for the map as shown in the figure above.\n",
    "\n",
    "\n",
    "Please write your solution to the cell below (remove the `raise NotImplementedError()` code). You can create new cells as well if needed."
   ]
  },
  {
   "cell_type": "code",
   "execution_count": null,
   "metadata": {
    "deletable": false,
    "nbgrader": {
     "cell_type": "code",
     "checksum": "65bd5aa9eee0a5cc796c9abeabf3aff7",
     "grade": true,
     "grade_id": "cell-d7585121c4912945",
     "locked": false,
     "points": 0,
     "schema_version": 3,
     "solution": true,
     "task": false
    }
   },
   "outputs": [],
   "source": [
    "# YOUR CODE HERE\n",
    "raise NotImplementedError()"
   ]
  },
  {
   "cell_type": "markdown",
   "metadata": {},
   "source": [
    "## Problem 4 - How long did it take? Optional feedback (1 point)\n",
    "\n",
    "To help developing the exercises, and understanding the time that it took for you to finish the Exercise, please provide an estimate of how many hours you spent for doing this exercise? *__Hint:__ To \"activate\" this cell in Editing mode, double click this cell. If you want to get this cell back in the \"Reading-mode\", press Shift+Enter.*\n",
    "\n",
    "\n",
    "I spent approximately this many hours: **X hours**\n",
    "\n",
    "In addition, if you would like to give any feedback about the exercise (optional), please provide it below:\n",
    "\n",
    "**My feedback:**"
   ]
  }
 ],
 "metadata": {
  "kernelspec": {
   "display_name": "Python 3 (ipykernel)",
   "language": "python",
   "name": "python3"
  },
  "language_info": {
   "codemirror_mode": {
    "name": "ipython",
    "version": 3
   },
   "file_extension": ".py",
   "mimetype": "text/x-python",
   "name": "python",
   "nbconvert_exporter": "python",
   "pygments_lexer": "ipython3",
   "version": "3.9.7"
  },
  "pycharm": {
   "stem_cell": {
    "cell_type": "raw",
    "metadata": {
     "collapsed": false
    },
    "source": []
   }
  }
 },
 "nbformat": 4,
 "nbformat_minor": 4
}
